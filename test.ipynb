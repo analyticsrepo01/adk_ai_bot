{
 "cells": [
  {
   "cell_type": "code",
   "execution_count": 1,
   "id": "89e3fde2-2f9f-4445-9ac0-db2a723b5a2f",
   "metadata": {
    "tags": []
   },
   "outputs": [],
   "source": [
    "import os\n",
    "from IPython.display import JSON\n",
    "import json\n",
    "\n",
    "# Cloud project id.\n",
    "PROJECT_IDS = !(gcloud config get-value core/project)\n",
    "PROJECT_ID = PROJECT_IDS[0]  # @param {type:\"string\"}\n",
    "\n",
    "if not PROJECT_ID:\n",
    "    PROJECT_ID = str(os.environ.get(\"GOOGLE_CLOUD_PROJECT\"))\n",
    "\n",
    "LOCATION = \"us-central1\" # @param {type:\"string\"}\n",
    "\n",
    "os.environ[\"GOOGLE_CLOUD_PROJECT\"] = PROJECT_ID\n",
    "os.environ[\"GOOGLE_CLOUD_LOCATION\"] = LOCATION\n",
    "os.environ[\"GOOGLE_GENAI_USE_VERTEXAI\"] = \"TRUE\" # Use Vertex AI API\n",
    "# [your-project-id]"
   ]
  },
  {
   "cell_type": "code",
   "execution_count": 2,
   "id": "f178204d-7f0b-4798-929b-70e3bf24c356",
   "metadata": {
    "tags": []
   },
   "outputs": [],
   "source": [
    "import vertexai\n",
    "\n",
    "STAGING_BUCKET = \"gs://avatar-bucket-notebook\"\n",
    "\n",
    "vertexai.init(\n",
    "    project=PROJECT_ID,\n",
    "    location=LOCATION,\n",
    "    staging_bucket=STAGING_BUCKET,\n",
    ")"
   ]
  },
  {
   "cell_type": "code",
   "execution_count": 8,
   "id": "de71fae9-147f-4db4-976a-cfb26b958e5f",
   "metadata": {
    "tags": []
   },
   "outputs": [],
   "source": [
    "from google.adk.agents import LlmAgent\n",
    "from google.genai import types\n",
    "from pydantic import BaseModel\n",
    "from google.adk.agents import Agent\n",
    "from google.genai import types\n",
    "from google.adk.sessions import InMemorySessionService\n",
    "from google.adk.runners import Runner\n",
    "from google.adk.tools.agent_tool import AgentTool\n",
    "from google.adk.agents.loop_agent import LoopAgent\n",
    "\n",
    "from prompt import ROOT_AGENT_INSTRUCTION\n",
    "from tools.character_counter import count_characters\n",
    "\n",
    "root_agent = Agent(\n",
    "    name=\"adk_short_bot\",\n",
    "    model=\"gemini-2.0-flash-001\",\n",
    "    description=\"A bot that shortens messages while maintaining their core meaning\",\n",
    "    instruction=ROOT_AGENT_INSTRUCTION,\n",
    "    tools=[count_characters],\n",
    ")"
   ]
  },
  {
   "cell_type": "markdown",
   "id": "ff5bca51-2ee3-4ffe-81e1-1957d7cbefba",
   "metadata": {},
   "source": [
    "### Caller Factory Function Overview\n"
   ]
  },
  {
   "cell_type": "markdown",
   "id": "4099e403-93b5-4822-a16f-ac0fb60db444",
   "metadata": {
    "jp-MarkdownHeadingCollapsed": true,
    "jupyter": {
     "source_hidden": true
    },
    "tags": []
   },
   "source": [
    "This is an async factory function that creates a pre-configured, reusable agent caller for Google's Agent Development Kit (ADK). Think of it as a \"function that creates functions\" - it sets up all the infrastructure needed to talk to an AI agent, then returns a simple function you can use repeatedly.\n",
    "Detailed Breakdown\n",
    "#### 1. Function Signature\n",
    "pythonasync def caller_factory(root_agent, app_name='App12345', user_id='User12345', session_id=None):\n",
    "\n",
    "async def: This is an asynchronous function that must be called with await\n",
    "Parameters:\n",
    "\n",
    "root_agent: The actual AI agent (like GPT, Gemini, etc.) that will handle conversations\n",
    "app_name: A name for your application (defaults to 'App12345')\n",
    "user_id: Identifies who is using the agent (defaults to 'User12345')\n",
    "session_id: Optional unique session identifier. If not provided, one is generated\n",
    "\n",
    "\n",
    "\n",
    "#### 2. Session Service Setup\n",
    "pythonsession_service = InMemorySessionService()\n",
    "\n",
    "Creates a session management service that stores conversation history in memory\n",
    "This keeps track of the conversation context (what was said before)\n",
    "\"InMemory\" means it's stored in RAM, not saved to disk\n",
    "\n",
    "#### 3. Session ID Generation\n",
    "pythonif session_id is None:\n",
    "    suffix = random.randint(100000, 999999)\n",
    "    session_id = f'{app_name}-{user_id}-{suffix}'\n",
    "\n",
    "If no session ID is provided, generates a unique one\n",
    "Format: \"App12345-User12345-123456\" (app name + user ID + random 6-digit number)\n",
    "This ensures each conversation has a unique identifier\n",
    "\n",
    "#### 4. Session Creation\n",
    "pythonsession = await session_service.create_session(\n",
    "    app_name=app_name, \n",
    "    user_id=user_id, \n",
    "    session_id=session_id\n",
    ")\n",
    "\n",
    "await is needed because creating a session is an async operation\n",
    "Creates an actual conversation session that will store the chat history\n",
    "The session object contains methods and properties to manage the conversation\n",
    "\n",
    "#### 5. Runner Setup\n",
    "pythonrunner = Runner(agent=root_agent, app_name=app_name, session_service=session_service)\n",
    "\n",
    "Creates a Runner - this is the \"execution engine\" that actually runs the agent\n",
    "Links together:\n",
    "\n",
    "The AI agent (what thinks and responds)\n",
    "The app name (for identification)\n",
    "The session service (for memory/context)\n",
    "\n",
    "\n",
    "\n",
    "#### 6. Inner Function Definition\n",
    "pythondef _call(query):\n",
    "    content = types.Content(role='user', parts=[types.Part(text=query)])\n",
    "    events = runner.run(user_id=session.user_id, session_id=session.id, new_message=content)\n",
    "    return list(events)  # Convert generator to list\n",
    "This creates the actual function that you'll use to talk to the agent:\n",
    "\n",
    "query: The text you want to send to the agent (like \"Hello\" or \"What's 2+2?\")\n",
    "types.Content(...): Wraps your query in the proper format the agent expects\n",
    "\n",
    "role='user': Indicates this message is from a human user\n",
    "parts=[types.Part(text=query)]: The actual text content\n",
    "\n",
    "\n",
    "runner.run(...): Sends the message to the agent and gets back a generator of events\n",
    "list(events): Converts the generator to a list so you can easily work with the results\n",
    "\n",
    "#### 7. Return the Function\n",
    "pythonreturn _call\n",
    "\n",
    "Returns the _call function so you can use it later\n",
    "This is the \"factory\" part - it manufactures a custom function for you\n",
    "\n",
    "How to Use It\n",
    "python# Step 1: Create the caller function (this sets up everything)\n",
    "call_agent = await caller_factory(root_agent=my_ai_agent)\n",
    "\n",
    "### Step 2: Use the caller function as many times as you want\n",
    "response1 = call_agent(\"Hello, what's your name?\")\n",
    "response2 = call_agent(\"What's 2 + 2?\")\n",
    "response3 = call_agent(\"Tell me a joke\")\n",
    "Why This Pattern is Useful\n",
    "\n",
    "#### One-time setup: All the complex initialization happens once\n",
    "Simple usage: After setup, you just call call_agent(\"your message\")\n",
    "Session persistence: The conversation history is maintained across multiple calls\n",
    "Reusable: You can create multiple callers for different agents or users\n",
    "Clean separation: Setup complexity is hidden from everyday usage\n",
    "\n",
    "#### Real-World Analogy\n",
    "Think of it like setting up a phone line:\n",
    "\n",
    "caller_factory is like installing the phone system, getting a phone number, and setting up voicemail\n",
    "The returned _call function is like the simple act of picking up the phone and dialing\n",
    "Once setup is done, making calls is easy and fast\n",
    "\n",
    "This pattern is common in software engineering - do the heavy lifting once, then provide a simple interface for repeated use."
   ]
  },
  {
   "cell_type": "markdown",
   "id": "cfeee4bf-3461-4d56-91c0-f61a5ae08ecd",
   "metadata": {},
   "source": [
    "### Caller factory"
   ]
  },
  {
   "cell_type": "code",
   "execution_count": 9,
   "id": "baab1835-feeb-4a5e-b53f-7620c392f5c8",
   "metadata": {
    "tags": []
   },
   "outputs": [],
   "source": [
    "import random\n",
    "\n",
    "async def caller_factory(root_agent, app_name='App12345', user_id='User12345', session_id=None):\n",
    "    \"\"\"create a pre-configured agent caller.\n",
    "    Args:\n",
    "        root_agent: The ADK agent to handle conversations\n",
    "        app_name: Application name (default: 'App12345')\n",
    "        user_id: User identifier (default: 'User12345')\n",
    "        session_id: Optional session ID. If None, generates a random one.\n",
    "    Returns:\n",
    "        A function that takes a query string and returns agent response events.\n",
    "    \"\"\"\n",
    "    session_service = InMemorySessionService()\n",
    "    if session_id is None:\n",
    "        suffix = random.randint(100000, 999999)\n",
    "        session_id = f'{app_name}-{user_id}-{suffix}'\n",
    "    \n",
    "    session = await session_service.create_session(\n",
    "        app_name=app_name, \n",
    "        user_id=user_id, \n",
    "        session_id=session_id\n",
    "    )\n",
    "    runner = Runner(agent=root_agent, app_name=app_name, session_service=session_service)\n",
    "    \n",
    "    def _call(query):\n",
    "        content = types.Content(role='user', parts=[types.Part(text=query)])\n",
    "        events = runner.run(user_id=session.user_id, session_id=session.id, new_message=content)\n",
    "        return list(events)  # Convert generator to list\n",
    "    \n",
    "    return _call"
   ]
  },
  {
   "cell_type": "code",
   "execution_count": 11,
   "id": "4e746f1a-ff01-4d12-bc4b-7cbd1bffdc6b",
   "metadata": {
    "tags": []
   },
   "outputs": [
    {
     "name": "stdout",
     "output_type": "stream",
     "text": [
      "[Event(content=Content(parts=[Part(video_metadata=None, thought=None, inline_data=None, file_data=None, thought_signature=None, code_execution_result=None, executable_code=None, function_call=None, function_response=None, text='Original Character Count: 5\\nNew Character Count: 5\\nNew message: hello\\n')], role='model'), grounding_metadata=None, partial=None, turn_complete=None, error_code=None, error_message=None, interrupted=None, custom_metadata=None, usage_metadata=GenerateContentResponseUsageMetadata(cache_tokens_details=None, cached_content_token_count=None, candidates_token_count=19, candidates_tokens_details=[ModalityTokenCount(modality=<MediaModality.TEXT: 'TEXT'>, token_count=19)], prompt_token_count=247, prompt_tokens_details=[ModalityTokenCount(modality=<MediaModality.TEXT: 'TEXT'>, token_count=247)], thoughts_token_count=None, tool_use_prompt_token_count=None, tool_use_prompt_tokens_details=None, total_token_count=266, traffic_type=<TrafficType.ON_DEMAND: 'ON_DEMAND'>), invocation_id='e-096adf00-37e7-42d2-9ec0-461c0a291aaa', author='adk_short_bot', actions=EventActions(skip_summarization=None, state_delta={}, artifact_delta={}, transfer_to_agent=None, escalate=None, requested_auth_configs={}), long_running_tool_ids=None, branch=None, id='5hU1XIRI', timestamp=1750688769.955608)]\n"
     ]
    }
   ],
   "source": [
    "# Correct way - use await to get the actual callable function\n",
    "call = await caller_factory(root_agent=root_agent)\n",
    "print(call('hello'))"
   ]
  },
  {
   "cell_type": "code",
   "execution_count": null,
   "id": "e8cf578f-fd71-4d5e-86e0-625a27d3749a",
   "metadata": {
    "tags": []
   },
   "outputs": [],
   "source": [
    "!pip install -U google-adk"
   ]
  },
  {
   "cell_type": "code",
   "execution_count": 15,
   "id": "d18df9f0-9df2-48de-bcc9-b2a6557cf154",
   "metadata": {
    "tags": []
   },
   "outputs": [
    {
     "name": "stdout",
     "output_type": "stream",
     "text": [
      "Deploying google.adk.agents.Agent as an application.\n",
      "Identified the following requirements: {'cloudpickle': '3.0.0', 'google-cloud-aiplatform': '1.98.0', 'pydantic': '2.11.7'}\n",
      "The following requirements are missing: {'cloudpickle', 'pydantic'}\n",
      "The following requirements are appended: {'pydantic==2.11.7', 'cloudpickle==3.0.0'}\n",
      "The final list of requirements: ['google-cloud-aiplatform[adk,agent_engines]', 'pydantic==2.11.7', 'cloudpickle==3.0.0']\n",
      "Using bucket avatar-bucket-notebook\n",
      "Wrote to gs://avatar-bucket-notebook/agent_engine/agent_engine.pkl\n",
      "Writing to gs://avatar-bucket-notebook/agent_engine/requirements.txt\n",
      "Creating in-memory tarfile of extra_packages\n",
      "Writing to gs://avatar-bucket-notebook/agent_engine/dependencies.tar.gz\n",
      "Creating AgentEngine\n",
      "Create AgentEngine backing LRO: projects/255766800726/locations/us-central1/reasoningEngines/8588619576093179904/operations/5866591452758278144\n",
      "View progress and logs at https://console.cloud.google.com/logs/query?project=my-project-0004-346516\n",
      "AgentEngine created. Resource name: projects/255766800726/locations/us-central1/reasoningEngines/8588619576093179904\n",
      "To use this AgentEngine in another session:\n",
      "agent_engine = vertexai.agent_engines.get('projects/255766800726/locations/us-central1/reasoningEngines/8588619576093179904')\n"
     ]
    }
   ],
   "source": [
    "from vertexai import agent_engines\n",
    "\n",
    "remote_app = agent_engines.create(\n",
    "    agent_engine=root_agent,\n",
    "    requirements=[\n",
    "        \"google-cloud-aiplatform[adk,agent_engines]\"   \n",
    "    ],\n",
    "    display_name=\"adk_short_bot\",\n",
    "    description=\"Agent Engine that uses ADK\",    \n",
    "    extra_packages=[\n",
    "        \"./tools\",\n",
    "    ],    \n",
    ")"
   ]
  },
  {
   "cell_type": "markdown",
   "id": "4b519786-474c-4813-9004-75bc4383941b",
   "metadata": {},
   "source": [
    "## Try your agent on Agent Engine¶\n"
   ]
  },
  {
   "cell_type": "code",
   "execution_count": 19,
   "id": "09d5b84f-a7ac-4a45-8ec6-23d030001972",
   "metadata": {
    "tags": []
   },
   "outputs": [
    {
     "data": {
      "text/plain": [
       "'projects/255766800726/locations/us-central1/reasoningEngines/8588619576093179904'"
      ]
     },
     "execution_count": 19,
     "metadata": {},
     "output_type": "execute_result"
    }
   ],
   "source": [
    "remote_app.resource_name\n"
   ]
  },
  {
   "cell_type": "markdown",
   "id": "c9a3a62c-9b0b-44ab-afdf-2b4cff898219",
   "metadata": {},
   "source": [
    "### Create session (remote)¶\n"
   ]
  },
  {
   "cell_type": "code",
   "execution_count": 17,
   "id": "8c9c0028-5e47-4d5d-98ba-39117c2efbd0",
   "metadata": {
    "tags": []
   },
   "outputs": [
    {
     "data": {
      "text/plain": [
       "{'appName': '8588619576093179904',\n",
       " 'events': [],\n",
       " 'state': {},\n",
       " 'id': '4141478221541539840',\n",
       " 'userId': 'User12345',\n",
       " 'lastUpdateTime': 1750689905.707026}"
      ]
     },
     "execution_count": 17,
     "metadata": {},
     "output_type": "execute_result"
    }
   ],
   "source": [
    "remote_session = remote_app.create_session(user_id=\"User12345\")\n",
    "remote_session"
   ]
  },
  {
   "cell_type": "markdown",
   "id": "4b2e17a0-fe0f-4c9a-baa1-449ca7547673",
   "metadata": {},
   "source": [
    "### List sessions (remote)¶"
   ]
  },
  {
   "cell_type": "code",
   "execution_count": 18,
   "id": "e507b6bf-f266-4153-a3e6-57d091e33dc3",
   "metadata": {
    "tags": []
   },
   "outputs": [
    {
     "data": {
      "text/plain": [
       "{'sessions': [{'appName': '8588619576093179904',\n",
       "   'events': [],\n",
       "   'state': {},\n",
       "   'id': '4141478221541539840',\n",
       "   'lastUpdateTime': 1750689905.707026,\n",
       "   'userId': 'User12345'}]}"
      ]
     },
     "execution_count": 18,
     "metadata": {},
     "output_type": "execute_result"
    }
   ],
   "source": [
    "remote_app.list_sessions(user_id=\"User12345\")"
   ]
  },
  {
   "cell_type": "markdown",
   "id": "47113297-1516-4026-8a1c-14f6737be542",
   "metadata": {},
   "source": [
    "### Get a specific session (remote)¶\n"
   ]
  },
  {
   "cell_type": "code",
   "execution_count": 20,
   "id": "e8599aca-c475-4bb2-b70f-12c4c8d2d32e",
   "metadata": {
    "tags": []
   },
   "outputs": [
    {
     "data": {
      "text/plain": [
       "{'appName': '8588619576093179904',\n",
       " 'events': [],\n",
       " 'state': {},\n",
       " 'id': '4141478221541539840',\n",
       " 'lastUpdateTime': 1750689905.707026,\n",
       " 'userId': 'User12345'}"
      ]
     },
     "execution_count": 20,
     "metadata": {},
     "output_type": "execute_result"
    }
   ],
   "source": [
    "remote_app.get_session(user_id=\"User12345\", session_id=remote_session[\"id\"])"
   ]
  },
  {
   "cell_type": "markdown",
   "id": "28ad7fd5-debd-4cb5-9e70-d74565c40ac4",
   "metadata": {},
   "source": [
    "### Send queries to your agent (remote)¶\n"
   ]
  },
  {
   "cell_type": "code",
   "execution_count": 21,
   "id": "724cdc0d-321f-4252-90dd-e247cf20848c",
   "metadata": {
    "tags": []
   },
   "outputs": [
    {
     "name": "stdout",
     "output_type": "stream",
     "text": [
      "{'content': {'parts': [{'text': 'I am designed to shorten messages, not provide weather information. Can you provide me with a message you would like me to shorten?\\n'}], 'role': 'model'}, 'usage_metadata': {'candidates_token_count': 27, 'candidates_tokens_details': [{'modality': 'TEXT', 'token_count': 27}], 'prompt_token_count': 252, 'prompt_tokens_details': [{'modality': 'TEXT', 'token_count': 252}], 'total_token_count': 279, 'traffic_type': 'ON_DEMAND'}, 'invocation_id': 'e-4b7bcef0-ed60-4447-9234-bf71cdc2d0ac', 'author': 'adk_short_bot', 'actions': {'state_delta': {}, 'artifact_delta': {}, 'requested_auth_configs': {}}, 'id': '1BrydD2a', 'timestamp': 1750690036.555702}\n"
     ]
    }
   ],
   "source": [
    "for event in remote_app.stream_query(\n",
    "    user_id=\"User12345\",\n",
    "    session_id=remote_session[\"id\"],\n",
    "    message=\"whats the weather in new york\",\n",
    "):\n",
    "    print(event)"
   ]
  }
 ],
 "metadata": {
  "environment": {
   "kernel": "conda-base-py312",
   "name": "workbench-notebooks.m128",
   "type": "gcloud",
   "uri": "us-docker.pkg.dev/deeplearning-platform-release/gcr.io/workbench-notebooks:m128"
  },
  "kernelspec": {
   "display_name": "py312 (Local)",
   "language": "python",
   "name": "conda-base-py312"
  },
  "language_info": {
   "codemirror_mode": {
    "name": "ipython",
    "version": 3
   },
   "file_extension": ".py",
   "mimetype": "text/x-python",
   "name": "python",
   "nbconvert_exporter": "python",
   "pygments_lexer": "ipython3",
   "version": "3.10.16"
  }
 },
 "nbformat": 4,
 "nbformat_minor": 5
}
